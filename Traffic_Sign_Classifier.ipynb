{
 "cells": [
  {
   "cell_type": "markdown",
   "metadata": {},
   "source": [
    "# Self-Driving Car Engineer Nanodegree\n",
    "\n",
    "## Deep Learning\n",
    "\n",
    "## Project: Build a Traffic Sign Recognition Classifier\n",
    "\n",
    "In this notebook, a template is provided for you to implement your functionality in stages, which is required to successfully complete this project. If additional code is required that cannot be included in the notebook, be sure that the Python code is successfully imported and included in your submission if necessary. \n",
    "\n",
    "> **Note**: Once you have completed all of the code implementations, you need to finalize your work by exporting the iPython Notebook as an HTML document. Before exporting the notebook to html, all of the code cells need to have been run so that reviewers can see the final implementation and output. You can then export the notebook by using the menu above and navigating to  \\n\",\n",
    "    \"**File -> Download as -> HTML (.html)**. Include the finished document along with this notebook as your submission. \n",
    "\n",
    "In addition to implementing code, there is a writeup to complete. The writeup should be completed in a separate file, which can be either a markdown file or a pdf document. There is a [write up template](https://github.com/udacity/CarND-Traffic-Sign-Classifier-Project/blob/master/writeup_template.md) that can be used to guide the writing process. Completing the code template and writeup template will cover all of the [rubric points](https://review.udacity.com/#!/rubrics/481/view) for this project.\n",
    "\n",
    "The [rubric](https://review.udacity.com/#!/rubrics/481/view) contains \"Stand Out Suggestions\" for enhancing the project beyond the minimum requirements. The stand out suggestions are optional. If you decide to pursue the \"stand out suggestions\", you can include the code in this Ipython notebook and also discuss the results in the writeup file.\n",
    "\n",
    "\n",
    ">**Note:** Code and Markdown cells can be executed using the **Shift + Enter** keyboard shortcut. In addition, Markdown cells can be edited by typically double-clicking the cell to enter edit mode."
   ]
  },
  {
   "cell_type": "markdown",
   "metadata": {},
   "source": [
    "---\n",
    "## Step 0: Load The Data"
   ]
  },
  {
   "cell_type": "code",
   "execution_count": 1,
   "metadata": {
    "collapsed": true
   },
   "outputs": [],
   "source": [
    "# Load pickled data\n",
    "import pickle\n",
    "\n",
    "training_file = '../train.p'\n",
    "validation_file= '../valid.p'\n",
    "testing_file = '../test.p'\n",
    "\n",
    "with open(training_file, mode='rb') as f:\n",
    "    train = pickle.load(f)\n",
    "with open(validation_file, mode='rb') as f:\n",
    "    valid = pickle.load(f)\n",
    "with open(testing_file, mode='rb') as f:\n",
    "    test = pickle.load(f)\n",
    "    \n",
    "X_train, y_train = train['features'], train['labels']\n",
    "X_valid, y_valid = valid['features'], valid['labels']\n",
    "X_test, y_test = test['features'], test['labels']"
   ]
  },
  {
   "cell_type": "markdown",
   "metadata": {},
   "source": [
    "---\n",
    "\n",
    "## Step 1: Dataset Summary & Exploration\n",
    "\n",
    "The pickled data is a dictionary with 4 key/value pairs:\n",
    "\n",
    "- `'features'` is a 4D array containing raw pixel data of the traffic sign images, (num examples, width, height, channels).\n",
    "- `'labels'` is a 1D array containing the label/class id of the traffic sign. The file `signnames.csv` contains id -> name mappings for each id.\n",
    "- `'sizes'` is a list containing tuples, (width, height) representing the original width and height the image.\n",
    "- `'coords'` is a list containing tuples, (x1, y1, x2, y2) representing coordinates of a bounding box around the sign in the image. **THESE COORDINATES ASSUME THE ORIGINAL IMAGE. THE PICKLED DATA CONTAINS RESIZED VERSIONS (32 by 32) OF THESE IMAGES**\n",
    "\n",
    "Complete the basic data summary below. Use python, numpy and/or pandas methods to calculate the data summary rather than hard coding the results. For example, the [pandas shape method](http://pandas.pydata.org/pandas-docs/stable/generated/pandas.DataFrame.shape.html) might be useful for calculating some of the summary results. "
   ]
  },
  {
   "cell_type": "markdown",
   "metadata": {},
   "source": [
    "### Provide a Basic Summary of the Data Set Using Python, Numpy and/or Pandas"
   ]
  },
  {
   "cell_type": "code",
   "execution_count": 2,
   "metadata": {},
   "outputs": [
    {
     "data": {
      "text/plain": [
       "{'coords': array([[  6,   5,  21,  20],\n",
       "        [  6,   6,  22,  22],\n",
       "        [  5,   6,  22,  23],\n",
       "        ..., \n",
       "        [ 17,  15, 178, 155],\n",
       "        [ 17,  15, 183, 160],\n",
       "        [ 20,  18, 211, 184]], dtype=uint8),\n",
       " 'features': array([[[[ 28,  25,  24],\n",
       "          [ 27,  24,  23],\n",
       "          [ 27,  24,  22],\n",
       "          ..., \n",
       "          [ 32,  28,  24],\n",
       "          [ 31,  27,  25],\n",
       "          [ 31,  27,  26]],\n",
       " \n",
       "         [[ 29,  26,  25],\n",
       "          [ 27,  25,  23],\n",
       "          [ 27,  25,  23],\n",
       "          ..., \n",
       "          [ 32,  28,  24],\n",
       "          [ 31,  27,  24],\n",
       "          [ 30,  27,  25]],\n",
       " \n",
       "         [[ 28,  26,  26],\n",
       "          [ 27,  25,  23],\n",
       "          [ 26,  25,  23],\n",
       "          ..., \n",
       "          [ 32,  28,  24],\n",
       "          [ 31,  27,  24],\n",
       "          [ 30,  27,  25]],\n",
       " \n",
       "         ..., \n",
       "         [[ 27,  24,  23],\n",
       "          [ 28,  25,  24],\n",
       "          [ 30,  25,  24],\n",
       "          ..., \n",
       "          [ 27,  24,  23],\n",
       "          [ 28,  24,  22],\n",
       "          [ 29,  25,  22]],\n",
       " \n",
       "         [[ 28,  23,  23],\n",
       "          [ 29,  24,  24],\n",
       "          [ 31,  25,  24],\n",
       "          ..., \n",
       "          [ 27,  24,  23],\n",
       "          [ 28,  24,  22],\n",
       "          [ 28,  24,  21]],\n",
       " \n",
       "         [[ 29,  23,  23],\n",
       "          [ 30,  24,  24],\n",
       "          [ 32,  24,  23],\n",
       "          ..., \n",
       "          [ 27,  24,  22],\n",
       "          [ 27,  23,  21],\n",
       "          [ 26,  22,  20]]],\n",
       " \n",
       " \n",
       "        [[[ 28,  24,  24],\n",
       "          [ 26,  23,  23],\n",
       "          [ 27,  24,  24],\n",
       "          ..., \n",
       "          [ 31,  28,  26],\n",
       "          [ 31,  28,  27],\n",
       "          [ 32,  28,  27]],\n",
       " \n",
       "         [[ 27,  24,  24],\n",
       "          [ 27,  24,  24],\n",
       "          [ 28,  25,  24],\n",
       "          ..., \n",
       "          [ 31,  27,  25],\n",
       "          [ 31,  27,  26],\n",
       "          [ 33,  29,  27]],\n",
       " \n",
       "         [[ 26,  24,  24],\n",
       "          [ 26,  24,  24],\n",
       "          [ 27,  24,  23],\n",
       "          ..., \n",
       "          [ 31,  26,  25],\n",
       "          [ 31,  27,  26],\n",
       "          [ 33,  29,  27]],\n",
       " \n",
       "         ..., \n",
       "         [[ 28,  25,  23],\n",
       "          [ 30,  27,  24],\n",
       "          [ 30,  27,  24],\n",
       "          ..., \n",
       "          [ 27,  24,  22],\n",
       "          [ 27,  24,  22],\n",
       "          [ 28,  24,  22]],\n",
       " \n",
       "         [[ 27,  24,  22],\n",
       "          [ 29,  26,  23],\n",
       "          [ 31,  26,  24],\n",
       "          ..., \n",
       "          [ 26,  23,  21],\n",
       "          [ 27,  24,  22],\n",
       "          [ 28,  25,  23]],\n",
       " \n",
       "         [[ 28,  24,  23],\n",
       "          [ 28,  24,  22],\n",
       "          [ 29,  24,  22],\n",
       "          ..., \n",
       "          [ 27,  23,  22],\n",
       "          [ 27,  24,  23],\n",
       "          [ 29,  26,  25]]],\n",
       " \n",
       " \n",
       "        [[[ 29,  25,  25],\n",
       "          [ 29,  26,  26],\n",
       "          [ 30,  27,  27],\n",
       "          ..., \n",
       "          [ 31,  27,  24],\n",
       "          [ 31,  28,  25],\n",
       "          [ 32,  29,  27]],\n",
       " \n",
       "         [[ 27,  24,  24],\n",
       "          [ 27,  25,  25],\n",
       "          [ 28,  26,  26],\n",
       "          ..., \n",
       "          [ 31,  27,  23],\n",
       "          [ 32,  28,  25],\n",
       "          [ 33,  30,  27]],\n",
       " \n",
       "         [[ 27,  24,  24],\n",
       "          [ 28,  26,  26],\n",
       "          [ 29,  27,  27],\n",
       "          ..., \n",
       "          [ 32,  28,  24],\n",
       "          [ 32,  28,  24],\n",
       "          [ 33,  29,  26]],\n",
       " \n",
       "         ..., \n",
       "         [[ 28,  26,  22],\n",
       "          [ 29,  26,  21],\n",
       "          [ 31,  26,  22],\n",
       "          ..., \n",
       "          [ 29,  24,  21],\n",
       "          [ 28,  23,  20],\n",
       "          [ 28,  23,  22]],\n",
       " \n",
       "         [[ 27,  26,  23],\n",
       "          [ 28,  25,  21],\n",
       "          [ 30,  25,  22],\n",
       "          ..., \n",
       "          [ 28,  23,  21],\n",
       "          [ 27,  22,  20],\n",
       "          [ 28,  24,  22]],\n",
       " \n",
       "         [[ 29,  26,  23],\n",
       "          [ 28,  24,  21],\n",
       "          [ 29,  24,  21],\n",
       "          ..., \n",
       "          [ 29,  25,  23],\n",
       "          [ 28,  24,  22],\n",
       "          [ 30,  26,  24]]],\n",
       " \n",
       " \n",
       "        ..., \n",
       "        [[[ 51,  67,  86],\n",
       "          [ 55,  59,  71],\n",
       "          [ 75,  81,  92],\n",
       "          ..., \n",
       "          [250, 248, 243],\n",
       "          [207, 212, 233],\n",
       "          [121, 116, 140]],\n",
       " \n",
       "         [[ 35,  42,  49],\n",
       "          [ 48,  47,  51],\n",
       "          [ 91,  96, 113],\n",
       "          ..., \n",
       "          [220, 224, 226],\n",
       "          [169, 177, 187],\n",
       "          [ 84,  87, 100]],\n",
       " \n",
       "         [[ 27,  26,  29],\n",
       "          [ 41,  38,  39],\n",
       "          [ 55,  64,  78],\n",
       "          ..., \n",
       "          [122, 143, 160],\n",
       "          [ 97, 104, 129],\n",
       "          [ 59,  59,  56]],\n",
       " \n",
       "         ..., \n",
       "         [[ 24,  23,  27],\n",
       "          [ 21,  20,  27],\n",
       "          [ 20,  19,  22],\n",
       "          ..., \n",
       "          [ 76,  79,  83],\n",
       "          [ 54,  64,  77],\n",
       "          [ 45,  51,  65]],\n",
       " \n",
       "         [[ 31,  31,  33],\n",
       "          [ 22,  23,  29],\n",
       "          [ 20,  18,  21],\n",
       "          ..., \n",
       "          [ 66,  67,  84],\n",
       "          [ 56,  65,  74],\n",
       "          [ 45,  55,  73]],\n",
       " \n",
       "         [[ 28,  28,  30],\n",
       "          [ 22,  21,  25],\n",
       "          [ 19,  18,  19],\n",
       "          ..., \n",
       "          [ 67,  63,  76],\n",
       "          [ 39,  45,  55],\n",
       "          [ 32,  37,  47]]],\n",
       " \n",
       " \n",
       "        [[[ 82,  78,  96],\n",
       "          [120, 126, 148],\n",
       "          [112, 125, 146],\n",
       "          ..., \n",
       "          [185, 182, 177],\n",
       "          [204, 210, 215],\n",
       "          [132, 114, 121]],\n",
       " \n",
       "         [[ 74,  77,  93],\n",
       "          [171, 174, 185],\n",
       "          [137, 164, 184],\n",
       "          ..., \n",
       "          [180, 181, 187],\n",
       "          [198, 200, 213],\n",
       "          [ 79,  85,  85]],\n",
       " \n",
       "         [[ 54,  50,  56],\n",
       "          [100, 106, 118],\n",
       "          [117, 132, 158],\n",
       "          ..., \n",
       "          [157, 153, 160],\n",
       "          [176, 183, 199],\n",
       "          [ 88,  80,  82]],\n",
       " \n",
       "         ..., \n",
       "         [[ 22,  21,  22],\n",
       "          [ 20,  19,  19],\n",
       "          [ 18,  16,  19],\n",
       "          ..., \n",
       "          [ 50,  50,  60],\n",
       "          [ 37,  43,  52],\n",
       "          [ 30,  41,  59]],\n",
       " \n",
       "         [[ 18,  16,  18],\n",
       "          [ 19,  17,  18],\n",
       "          [ 19,  18,  21],\n",
       "          ..., \n",
       "          [ 36,  44,  60],\n",
       "          [ 33,  36,  48],\n",
       "          [ 36,  43,  61]],\n",
       " \n",
       "         [[ 18,  17,  20],\n",
       "          [ 21,  20,  23],\n",
       "          [ 24,  22,  25],\n",
       "          ..., \n",
       "          [ 32,  34,  41],\n",
       "          [ 45,  42,  48],\n",
       "          [ 41,  43,  52]]],\n",
       " \n",
       " \n",
       "        [[[ 69,  79,  96],\n",
       "          [ 24,  26,  28],\n",
       "          [ 40,  42,  45],\n",
       "          ..., \n",
       "          [225, 234, 237],\n",
       "          [151, 161, 166],\n",
       "          [164, 162, 169]],\n",
       " \n",
       "         [[ 99, 110, 125],\n",
       "          [ 36,  41,  47],\n",
       "          [ 63,  56,  62],\n",
       "          ..., \n",
       "          [197, 216, 224],\n",
       "          [154, 163, 169],\n",
       "          [164, 163, 159]],\n",
       " \n",
       "         [[104, 107, 113],\n",
       "          [ 34,  37,  40],\n",
       "          [ 72,  70,  77],\n",
       "          ..., \n",
       "          [223, 237, 235],\n",
       "          [181, 192, 198],\n",
       "          [166, 167, 159]],\n",
       " \n",
       "         ..., \n",
       "         [[ 21,  20,  23],\n",
       "          [ 23,  24,  30],\n",
       "          [ 19,  20,  24],\n",
       "          ..., \n",
       "          [ 45,  47,  54],\n",
       "          [ 58,  62,  70],\n",
       "          [ 58,  70,  82]],\n",
       " \n",
       "         [[ 18,  17,  21],\n",
       "          [ 19,  19,  24],\n",
       "          [ 18,  18,  23],\n",
       "          ..., \n",
       "          [ 36,  36,  40],\n",
       "          [ 58,  59,  70],\n",
       "          [ 61,  69,  81]],\n",
       " \n",
       "         [[ 17,  16,  19],\n",
       "          [ 16,  15,  18],\n",
       "          [ 16,  15,  18],\n",
       "          ..., \n",
       "          [ 40,  40,  44],\n",
       "          [ 57,  62,  73],\n",
       "          [ 57,  68,  80]]]], dtype=uint8),\n",
       " 'labels': array([41, 41, 41, ..., 25, 25, 25], dtype=uint8),\n",
       " 'sizes': array([[ 26,  25],\n",
       "        [ 27,  27],\n",
       "        [ 27,  28],\n",
       "        ..., \n",
       "        [194, 169],\n",
       "        [201, 175],\n",
       "        [230, 201]], dtype=uint8)}"
      ]
     },
     "execution_count": 2,
     "metadata": {},
     "output_type": "execute_result"
    }
   ],
   "source": [
    "train"
   ]
  },
  {
   "cell_type": "code",
   "execution_count": 3,
   "metadata": {},
   "outputs": [
    {
     "name": "stdout",
     "output_type": "stream",
     "text": [
      "Number of training examples = 34799\n",
      "Number of testing examples = 12630\n",
      "Image data shape = (32, 32, 3)\n",
      "Number of classes = 43\n"
     ]
    }
   ],
   "source": [
    "### Replace each question mark with the appropriate value. \n",
    "### Use python, pandas or numpy methods rather than hard coding the results\n",
    "\n",
    "import numpy as np\n",
    "\n",
    "# TODO: Number of training exa'mples\n",
    "n_train = len( train['features'] )\n",
    "\n",
    "# TODO: Number of validation examples\n",
    "n_validation = len ( valid['features'] )\n",
    "\n",
    "# TODO: Number of testing examples.\n",
    "n_test = len( test['features'] )\n",
    "\n",
    "# TODO: What's the shape of an traffic sign image?\n",
    "image_shape = np.array( train['features'] )[0].shape \n",
    "\n",
    "# TODO: How many unique classes/labels there are in the dataset.\n",
    "n_classes = len(np.unique( train['labels'] ))\n",
    "\n",
    "print(\"Number of training examples =\", n_train)\n",
    "print(\"Number of testing examples =\", n_test)\n",
    "print(\"Image data shape =\", image_shape)\n",
    "print(\"Number of classes =\", n_classes)"
   ]
  },
  {
   "cell_type": "markdown",
   "metadata": {},
   "source": [
    "### Include an exploratory visualization of the dataset"
   ]
  },
  {
   "cell_type": "markdown",
   "metadata": {},
   "source": [
    "Visualize the German Traffic Signs Dataset using the pickled file(s). This is open ended, suggestions include: plotting traffic sign images, plotting the count of each sign, etc. \n",
    "\n",
    "The [Matplotlib](http://matplotlib.org/) [examples](http://matplotlib.org/examples/index.html) and [gallery](http://matplotlib.org/gallery.html) pages are a great resource for doing visualizations in Python.\n",
    "\n",
    "**NOTE:** It's recommended you start with something simple first. If you wish to do more, come back to it after you've completed the rest of the sections. It can be interesting to look at the distribution of classes in the training, validation and test set. Is the distribution the same? Are there more examples of some classes than others?"
   ]
  },
  {
   "cell_type": "code",
   "execution_count": 4,
   "metadata": {},
   "outputs": [
    {
     "data": {
      "text/plain": [
       "array([[<matplotlib.axes._subplots.AxesSubplot object at 0x7fe39e0b8c50>]], dtype=object)"
      ]
     },
     "execution_count": 4,
     "metadata": {},
     "output_type": "execute_result"
    },
    {
     "data": {
      "image/png": "[encoded data removed]",
      "text/plain": [
       "<matplotlib.figure.Figure at 0x7fe3dc0f5be0>"
      ]
     },
     "metadata": {},
     "output_type": "display_data"
    },
    {
     "data": {
      "image/png": "[encoded data removed]",
      "text/plain": [
       "<matplotlib.figure.Figure at 0x7fe39e0b8240>"
      ]
     },
     "metadata": {},
     "output_type": "display_data"
    }
   ],
   "source": [
    "### Data exploration visualization code goes here.\n",
    "### Feel free to use as many code cells as needed.\n",
    "import matplotlib.pyplot as plt\n",
    "import pandas as pd\n",
    "# Visualizations will be shown in the notebook.\n",
    "%matplotlib inline\n",
    "\n",
    "\n",
    "plt.imshow( np.array( train['features'] )[300] )\n",
    "\n",
    "classes = pd.DataFrame( train['labels'] )\n",
    "classes.hist(bins=n_classes)\n",
    "\n"
   ]
  },
  {
   "cell_type": "markdown",
   "metadata": {},
   "source": [
    "----\n",
    "\n",
    "## Step 2: Design and Test a Model Architecture\n",
    "\n",
    "Design and implement a deep learning model that learns to recognize traffic signs. Train and test your model on the [German Traffic Sign Dataset](http://benchmark.ini.rub.de/?section=gtsrb&subsection=dataset).\n",
    "\n",
    "The LeNet-5 implementation shown in the [classroom](https://classroom.udacity.com/nanodegrees/nd013/parts/fbf77062-5703-404e-b60c-95b78b2f3f9e/modules/6df7ae49-c61c-4bb2-a23e-6527e69209ec/lessons/601ae704-1035-4287-8b11-e2c2716217ad/concepts/d4aca031-508f-4e0b-b493-e7b706120f81) at the end of the CNN lesson is a solid starting point. You'll have to change the number of classes and possibly the preprocessing, but aside from that it's plug and play! \n",
    "\n",
    "With the LeNet-5 solution from the lecture, you should expect a validation set accuracy of about 0.89. To meet specifications, the validation set accuracy will need to be at least 0.93. It is possible to get an even higher accuracy, but 0.93 is the minimum for a successful project submission. \n",
    "\n",
    "There are various aspects to consider when thinking about this problem:\n",
    "\n",
    "- Neural network architecture (is the network over or underfitting?)\n",
    "- Play around preprocessing techniques (normalization, rgb to grayscale, etc)\n",
    "- Number of examples per label (some have more than others).\n",
    "- Generate fake data.\n",
    "\n",
    "Here is an example of a [published baseline model on this problem](http://yann.lecun.com/exdb/publis/pdf/sermanet-ijcnn-11.pdf). It's not required to be familiar with the approach used in the paper but, it's good practice to try to read papers like these."
   ]
  },
  {
   "cell_type": "markdown",
   "metadata": {},
   "source": [
    "### Pre-process the Data Set (normalization, grayscale, etc.)"
   ]
  },
  {
   "cell_type": "markdown",
   "metadata": {},
   "source": [
    "Minimally, the image data should be normalized so that the data has mean zero and equal variance. For image data, `(pixel - 128)/ 128` is a quick way to approximately normalize the data and can be used in this project. \n",
    "\n",
    "Other pre-processing steps are optional. You can try different techniques to see if it improves performance. \n",
    "\n",
    "Use the code cell (or multiple code cells, if necessary) to implement the first step of your project."
   ]
  },
  {
   "cell_type": "code",
   "execution_count": 18,
   "metadata": {},
   "outputs": [
    {
     "data": {
      "image/png": "[encoded data removed]",
      "text/plain": [
       "<matplotlib.figure.Figure at 0x7fe2f0f575c0>"
      ]
     },
     "metadata": {},
     "output_type": "display_data"
    },
    {
     "data": {
      "text/plain": [
       "<matplotlib.image.AxesImage at 0x7fe2eb0f8828>"
      ]
     },
     "execution_count": 18,
     "metadata": {},
     "output_type": "execute_result"
    },
    {
     "data": {
      "image/png": "[encoded data removed]",
      "text/plain": [
       "<matplotlib.figure.Figure at 0x7fe3a6637eb8>"
      ]
     },
     "metadata": {},
     "output_type": "display_data"
    }
   ],
   "source": [
    "from skimage import color, data, restoration\n",
    "from scipy.signal import convolve2d\n",
    "\n",
    "def sharpen(image):\n",
    "    image = color.rgb2gray(image)\n",
    "    psf = np.ones((2, 2)) / 25\n",
    "    image = convolve2d(image, psf, 'same')\n",
    "    image += 0.01 * image.std() * np.random.standard_normal(image.shape)\n",
    "    return restoration.wiener(image, psf, 1, clip=False)\n",
    "\n",
    "\n",
    "orig = np.array( train['features'] )[300] \n",
    "test = sharpen(orig)\n",
    "\n",
    "\n",
    "\n",
    "plt.imshow( orig )\n",
    "plt.show()\n",
    "plt.imshow( test, cmap='gray')\n"
   ]
  },
  {
   "cell_type": "code",
   "execution_count": 5,
   "metadata": {},
   "outputs": [
    {
     "name": "stdout",
     "output_type": "stream",
     "text": [
      "(34799,)\n"
     ]
    }
   ],
   "source": [
    "import tensorflow as tf\n",
    "\n",
    "### Preprocess the data here. It is required to normalize the data. Other preprocessing steps could include \n",
    "### converting to grayscale, etc.\n",
    "### Feel free to use as many code cells as needed.\n",
    "\n",
    "X_training = (np.array( train['features'] ) - 128 ) /128\n",
    "X_validation = (np.array( valid['features'] ) - 128 ) /128\n",
    "X_testing = (np.array( test['features'] ) - 128 ) /128\n",
    "\n",
    "y_training = np.array( train['labels'] )\n",
    "y_validation = np.array(valid['labels'])\n",
    "y_testing = np.array(test['labels'])\n",
    "\n",
    "\n",
    "print( y_training.shape )"
   ]
  },
  {
   "cell_type": "code",
   "execution_count": null,
   "metadata": {
    "collapsed": true
   },
   "outputs": [],
   "source": []
  },
  {
   "cell_type": "markdown",
   "metadata": {},
   "source": [
    "### Model Architecture"
   ]
  },
  {
   "cell_type": "code",
   "execution_count": 6,
   "metadata": {
    "collapsed": true
   },
   "outputs": [],
   "source": [
    "def LeNet(x):    \n",
    "    # Arguments used for tf.truncated_normal, randomly defines variables for the weights and biases for each layer\n",
    "    mu = 0\n",
    "    sigma = 0.1\n",
    "    \n",
    "    #Layer One\n",
    "    conv1_W = tf.Variable(tf.truncated_normal(shape=(5, 5, 3, 6), mean = mu, stddev = sigma))\n",
    "    conv1_b = tf.Variable(tf.zeros(6))\n",
    "    conv1   = tf.nn.conv2d(x, conv1_W, strides=[1, 1, 1, 1], padding='VALID') + conv1_b\n",
    "    conv1 = tf.nn.relu(conv1)\n",
    "    conv1 = tf.nn.max_pool(conv1, ksize=[1, 2, 2, 1], strides=[1, 2, 2, 1], padding='VALID')\n",
    "\n",
    "    # Layer 2\n",
    "    conv2_W = tf.Variable(tf.truncated_normal(shape=(5, 5, 6, 16), mean = mu, stddev = sigma))\n",
    "    conv2_b = tf.Variable(tf.zeros(16))\n",
    "    conv2   = tf.nn.conv2d(conv1, conv2_W, strides=[1, 1, 1, 1], padding='VALID') + conv2_b\n",
    "    conv2 = tf.nn.relu(conv2)\n",
    "    conv2 = tf.nn.max_pool(conv2, ksize=[1, 2, 2, 1], strides=[1, 2, 2, 1], padding='VALID')\n",
    "\n",
    "    # Layer 3: Fully Connected\n",
    "    fc0   = tf.contrib.layers.flatten(conv2)\n",
    "    fc1_W = tf.Variable(tf.truncated_normal(shape=(400, 120), mean = mu, stddev = sigma))\n",
    "    fc1_b = tf.Variable(tf.zeros(120))\n",
    "    fc1   = tf.matmul(fc0, fc1_W) + fc1_b\n",
    "    fc1   = tf.nn.relu(fc1)\n",
    "    fc1   = tf.nn.dropout( fc1, keep_prob=0.7 ) \n",
    "    \n",
    "    # Layer 4: Fully Connected\n",
    "    fc2_W  = tf.Variable(tf.truncated_normal(shape=(120, 84), mean = mu, stddev = sigma))\n",
    "    fc2_b  = tf.Variable(tf.zeros(84))\n",
    "    fc2    = tf.matmul(fc1, fc2_W) + fc2_b\n",
    "    fc2    = tf.nn.relu(fc2)\n",
    "    fc2    = tf.nn.dropout( fc2, keep_prob=0.7 ) \n",
    "\n",
    "    # Layer 5: Fully Connected. Input = 84\n",
    "    fc3_W  = tf.Variable(tf.truncated_normal(shape=(84, n_classes), mean = mu, stddev = sigma))\n",
    "    fc3_b  = tf.Variable(tf.zeros(n_classes))\n",
    "    logits = tf.matmul(fc2, fc3_W) + fc3_b\n",
    "    \n",
    "    return logits"
   ]
  },
  {
   "cell_type": "code",
   "execution_count": 7,
   "metadata": {
    "collapsed": true
   },
   "outputs": [],
   "source": [
    "learning_rate = 0.002\n",
    "epochs = 20\n",
    "batch_size = 128"
   ]
  },
  {
   "cell_type": "code",
   "execution_count": 8,
   "metadata": {
    "collapsed": true
   },
   "outputs": [],
   "source": [
    "x = tf.placeholder(tf.float32, (None, ) +  image_shape)\n",
    "y = tf.placeholder(tf.int32, (None))\n",
    "one_hot_y = tf.one_hot(y, n_classes)\n",
    "\n",
    "logits = LeNet(x)\n",
    "cross_entropy = tf.nn.softmax_cross_entropy_with_logits(labels=one_hot_y, logits=logits)\n",
    "loss_operation = tf.reduce_mean(cross_entropy)\n",
    "optimizer = tf.train.AdamOptimizer(learning_rate = learning_rate)\n",
    "training_operation = optimizer.minimize(loss_operation)"
   ]
  },
  {
   "cell_type": "markdown",
   "metadata": {},
   "source": [
    "### Train, Validate and Test the Model"
   ]
  },
  {
   "cell_type": "markdown",
   "metadata": {},
   "source": [
    "A validation set can be used to assess how well the model is performing. A low accuracy on the training and validation\n",
    "sets imply underfitting. A high accuracy on the training set but low accuracy on the validation set implies overfitting."
   ]
  },
  {
   "cell_type": "code",
   "execution_count": 9,
   "metadata": {
    "collapsed": true
   },
   "outputs": [],
   "source": [
    "\n",
    "\n",
    "correct_prediction = tf.equal(tf.argmax(logits, 1), tf.argmax(one_hot_y, 1))\n",
    "accuracy_operation = tf.reduce_mean(tf.cast(correct_prediction, tf.float32))\n",
    "saver = tf.train.Saver()\n",
    "\n",
    "def evaluate(X_data, y_data):\n",
    "    num_examples = len(X_data)\n",
    "    total_accuracy = 0\n",
    "    sess = tf.get_default_session()\n",
    "    for offset in range(0, num_examples, batch_size):\n",
    "        batch_x, batch_y = X_data[offset:offset+batch_size], y_data[offset:offset+batch_size]\n",
    "        accuracy = sess.run(accuracy_operation, feed_dict={x: batch_x, y: batch_y})\n",
    "        total_accuracy += (accuracy * len(batch_x))\n",
    "    return total_accuracy / num_examples"
   ]
  },
  {
   "cell_type": "code",
   "execution_count": 10,
   "metadata": {},
   "outputs": [
    {
     "name": "stdout",
     "output_type": "stream",
     "text": [
      "Training...\n",
      "\n",
      "EPOCH 1 ...\n",
      "train_acc = 0.380, val_acc = 0.298 \n",
      "\n",
      "EPOCH 2 ...\n",
      "train_acc = 0.610, val_acc = 0.505 \n",
      "\n",
      "EPOCH 3 ...\n",
      "train_acc = 0.715, val_acc = 0.590 \n",
      "\n",
      "EPOCH 4 ...\n",
      "train_acc = 0.756, val_acc = 0.617 \n",
      "\n",
      "EPOCH 5 ...\n",
      "train_acc = 0.795, val_acc = 0.656 \n",
      "\n",
      "EPOCH 6 ...\n",
      "train_acc = 0.814, val_acc = 0.654 \n",
      "\n",
      "EPOCH 7 ...\n",
      "train_acc = 0.846, val_acc = 0.686 \n",
      "\n",
      "EPOCH 8 ...\n",
      "train_acc = 0.849, val_acc = 0.705 \n",
      "\n",
      "EPOCH 9 ...\n",
      "train_acc = 0.866, val_acc = 0.699 \n",
      "\n",
      "EPOCH 10 ...\n",
      "train_acc = 0.873, val_acc = 0.715 \n",
      "\n",
      "EPOCH 11 ...\n",
      "train_acc = 0.881, val_acc = 0.715 \n",
      "\n",
      "EPOCH 12 ...\n",
      "train_acc = 0.886, val_acc = 0.724 \n",
      "\n",
      "EPOCH 13 ...\n",
      "train_acc = 0.893, val_acc = 0.731 \n",
      "\n",
      "EPOCH 14 ...\n",
      "train_acc = 0.893, val_acc = 0.732 \n",
      "\n",
      "EPOCH 15 ...\n",
      "train_acc = 0.905, val_acc = 0.744 \n",
      "\n",
      "EPOCH 16 ...\n",
      "train_acc = 0.891, val_acc = 0.730 \n",
      "\n",
      "EPOCH 17 ...\n",
      "train_acc = 0.896, val_acc = 0.730 \n",
      "\n",
      "EPOCH 18 ...\n",
      "train_acc = 0.912, val_acc = 0.744 \n",
      "\n",
      "EPOCH 19 ...\n",
      "train_acc = 0.907, val_acc = 0.742 \n",
      "\n",
      "EPOCH 20 ...\n",
      "train_acc = 0.907, val_acc = 0.741 \n",
      "\n",
      "Model saved\n"
     ]
    }
   ],
   "source": [
    "from sklearn.utils import shuffle\n",
    "\n",
    "with tf.Session() as sess:\n",
    "    sess.run(tf.global_variables_initializer())\n",
    "    num_examples = len(X_train)\n",
    "\n",
    "    print(\"Training...\")\n",
    "    print()\n",
    "    for i in range(epochs):\n",
    "        X_train, y_train = shuffle(X_training, y_training)\n",
    "        for offset in range(0, num_examples, batch_size ):\n",
    "            end = offset + batch_size\n",
    "            batch_x, batch_y = X_train[offset:end], y_train[offset:end]\n",
    "            sess.run(training_operation, feed_dict={x: batch_x, y: batch_y})\n",
    "\n",
    "        train_accuracy = evaluate(X_train, y_train)\n",
    "        validation_accuracy = evaluate(X_validation, y_validation)\n",
    "        print(\"EPOCH {} ...\".format(i+1))\n",
    "        print(\"train_acc = {:.3f}, val_acc = {:.3f} \".format(train_accuracy, validation_accuracy))\n",
    "        print()\n",
    "\n",
    "    saver.save(sess, './lenet')\n",
    "    print(\"Model saved\")"
   ]
  },
  {
   "cell_type": "markdown",
   "metadata": {},
   "source": [
    "---\n",
    "\n",
    "## Step 3: Test a Model on New Images\n",
    "\n",
    "To give yourself more insight into how your model is working, download at least five pictures of German traffic signs from the web and use your model to predict the traffic sign type.\n",
    "\n",
    "You may find `signnames.csv` useful as it contains mappings from the class id (integer) to the actual sign name."
   ]
  },
  {
   "cell_type": "markdown",
   "metadata": {},
   "source": [
    "### Load and Output the Images"
   ]
  },
  {
   "cell_type": "code",
   "execution_count": 11,
   "metadata": {
    "collapsed": true
   },
   "outputs": [],
   "source": [
    "### Load the images and plot them here.\n",
    "### Feel free to use as many code cells as needed."
   ]
  },
  {
   "cell_type": "markdown",
   "metadata": {},
   "source": [
    "### Predict the Sign Type for Each Image"
   ]
  },
  {
   "cell_type": "code",
   "execution_count": 12,
   "metadata": {
    "collapsed": true
   },
   "outputs": [],
   "source": [
    "### Run the predictions here and use the model to output the prediction for each image.\n",
    "### Make sure to pre-process the images with the same pre-processing pipeline used earlier.\n",
    "### Feel free to use as many code cells as needed."
   ]
  },
  {
   "cell_type": "markdown",
   "metadata": {},
   "source": [
    "### Analyze Performance"
   ]
  },
  {
   "cell_type": "code",
   "execution_count": 13,
   "metadata": {
    "collapsed": true
   },
   "outputs": [],
   "source": [
    "### Calculate the accuracy for these 5 new images. \n",
    "### For example, if the model predicted 1 out of 5 signs correctly, it's 20% accurate on these new images."
   ]
  },
  {
   "cell_type": "markdown",
   "metadata": {},
   "source": [
    "### Output Top 5 Softmax Probabilities For Each Image Found on the Web"
   ]
  },
  {
   "cell_type": "markdown",
   "metadata": {},
   "source": [
    "For each of the new images, print out the model's softmax probabilities to show the **certainty** of the model's predictions (limit the output to the top 5 probabilities for each image). [`tf.nn.top_k`](https://www.tensorflow.org/versions/r0.12/api_docs/python/nn.html#top_k) could prove helpful here. \n",
    "\n",
    "The example below demonstrates how tf.nn.top_k can be used to find the top k predictions for each image.\n",
    "\n",
    "`tf.nn.top_k` will return the values and indices (class ids) of the top k predictions. So if k=3, for each sign, it'll return the 3 largest probabilities (out of a possible 43) and the correspoding class ids.\n",
    "\n",
    "Take this numpy array as an example. The values in the array represent predictions. The array contains softmax probabilities for five candidate images with six possible classes. `tk.nn.top_k` is used to choose the three classes with the highest probability:\n",
    "\n",
    "```\n",
    "# (5, 6) array\n",
    "a = np.array([[ 0.24879643,  0.07032244,  0.12641572,  0.34763842,  0.07893497,\n",
    "         0.12789202],\n",
    "       [ 0.28086119,  0.27569815,  0.08594638,  0.0178669 ,  0.18063401,\n",
    "         0.15899337],\n",
    "       [ 0.26076848,  0.23664738,  0.08020603,  0.07001922,  0.1134371 ,\n",
    "         0.23892179],\n",
    "       [ 0.11943333,  0.29198961,  0.02605103,  0.26234032,  0.1351348 ,\n",
    "         0.16505091],\n",
    "       [ 0.09561176,  0.34396535,  0.0643941 ,  0.16240774,  0.24206137,\n",
    "         0.09155967]])\n",
    "```\n",
    "\n",
    "Running it through `sess.run(tf.nn.top_k(tf.constant(a), k=3))` produces:\n",
    "\n",
    "```\n",
    "TopKV2(values=array([[ 0.34763842,  0.24879643,  0.12789202],\n",
    "       [ 0.28086119,  0.27569815,  0.18063401],\n",
    "       [ 0.26076848,  0.23892179,  0.23664738],\n",
    "       [ 0.29198961,  0.26234032,  0.16505091],\n",
    "       [ 0.34396535,  0.24206137,  0.16240774]]), indices=array([[3, 0, 5],\n",
    "       [0, 1, 4],\n",
    "       [0, 5, 1],\n",
    "       [1, 3, 5],\n",
    "       [1, 4, 3]], dtype=int32))\n",
    "```\n",
    "\n",
    "Looking just at the first row we get `[ 0.34763842,  0.24879643,  0.12789202]`, you can confirm these are the 3 largest probabilities in `a`. You'll also notice `[3, 0, 5]` are the corresponding indices."
   ]
  },
  {
   "cell_type": "code",
   "execution_count": 14,
   "metadata": {
    "collapsed": true
   },
   "outputs": [],
   "source": [
    "### Print out the top five softmax probabilities for the predictions on the German traffic sign images found on the web. \n",
    "### Feel free to use as many code cells as needed."
   ]
  },
  {
   "cell_type": "markdown",
   "metadata": {},
   "source": [
    "### Project Writeup\n",
    "\n",
    "Once you have completed the code implementation, document your results in a project writeup using this [template](https://github.com/udacity/CarND-Traffic-Sign-Classifier-Project/blob/master/writeup_template.md) as a guide. The writeup can be in a markdown or pdf file. "
   ]
  },
  {
   "cell_type": "markdown",
   "metadata": {},
   "source": [
    "> **Note**: Once you have completed all of the code implementations and successfully answered each question above, you may finalize your work by exporting the iPython Notebook as an HTML document. You can do this by using the menu above and navigating to  \\n\",\n",
    "    \"**File -> Download as -> HTML (.html)**. Include the finished document along with this notebook as your submission."
   ]
  },
  {
   "cell_type": "markdown",
   "metadata": {},
   "source": [
    "---\n",
    "\n",
    "## Step 4 (Optional): Visualize the Neural Network's State with Test Images\n",
    "\n",
    " This Section is not required to complete but acts as an additional excersise for understaning the output of a neural network's weights. While neural networks can be a great learning device they are often referred to as a black box. We can understand what the weights of a neural network look like better by plotting their feature maps. After successfully training your neural network you can see what it's feature maps look like by plotting the output of the network's weight layers in response to a test stimuli image. From these plotted feature maps, it's possible to see what characteristics of an image the network finds interesting. For a sign, maybe the inner network feature maps react with high activation to the sign's boundary outline or to the contrast in the sign's painted symbol.\n",
    "\n",
    " Provided for you below is the function code that allows you to get the visualization output of any tensorflow weight layer you want. The inputs to the function should be a stimuli image, one used during training or a new one you provided, and then the tensorflow variable name that represents the layer's state during the training process, for instance if you wanted to see what the [LeNet lab's](https://classroom.udacity.com/nanodegrees/nd013/parts/fbf77062-5703-404e-b60c-95b78b2f3f9e/modules/6df7ae49-c61c-4bb2-a23e-6527e69209ec/lessons/601ae704-1035-4287-8b11-e2c2716217ad/concepts/d4aca031-508f-4e0b-b493-e7b706120f81) feature maps looked like for it's second convolutional layer you could enter conv2 as the tf_activation variable.\n",
    "\n",
    "For an example of what feature map outputs look like, check out NVIDIA's results in their paper [End-to-End Deep Learning for Self-Driving Cars](https://devblogs.nvidia.com/parallelforall/deep-learning-self-driving-cars/) in the section Visualization of internal CNN State. NVIDIA was able to show that their network's inner weights had high activations to road boundary lines by comparing feature maps from an image with a clear path to one without. Try experimenting with a similar test to show that your trained network's weights are looking for interesting features, whether it's looking at differences in feature maps from images with or without a sign, or even what feature maps look like in a trained network vs a completely untrained one on the same sign image.\n",
    "\n",
    "<figure>\n",
    " <img src=\"visualize_cnn.png\" width=\"380\" alt=\"Combined Image\" />\n",
    " <figcaption>\n",
    " <p></p> \n",
    " <p style=\"text-align: center;\"> Your output should look something like this (above)</p> \n",
    " </figcaption>\n",
    "</figure>\n",
    " <p></p> \n"
   ]
  },
  {
   "cell_type": "code",
   "execution_count": null,
   "metadata": {
    "collapsed": true
   },
   "outputs": [],
   "source": []
  },
  {
   "cell_type": "raw",
   "metadata": {
    "collapsed": true
   },
   "source": [
    "### Visualize your network's feature maps here.\n",
    "### Feel free to use as many code cells as needed.\n",
    "\n",
    "# image_input: the test image being fed into the network to produce the feature maps\n",
    "# tf_activation: should be a tf variable name used during your training procedure that represents the calculated state of a specific weight layer\n",
    "# activation_min/max: can be used to view the activation contrast in more detail, by default matplot sets min and max to the actual min and max values of the output\n",
    "# plt_num: used to plot out multiple different weight feature map sets on the same block, just extend the plt number for each new feature map entry\n",
    "\n",
    "def outputFeatureMap(image_input, tf_activation, activation_min=-1, activation_max=-1 ,plt_num=1):\n",
    "    # Here make sure to preprocess your image_input in a way your network expects\n",
    "    # with size, normalization, ect if needed\n",
    "    # image_input =\n",
    "    # Note: x should be the same name as your network's tensorflow data placeholder variable\n",
    "    # If you get an error tf_activation is not defined it may be having trouble accessing the variable from inside a function\n",
    "    activation = tf_activation.eval(session=sess,feed_dict={x : image_input})\n",
    "    featuremaps = activation.shape[3]\n",
    "    plt.figure(plt_num, figsize=(15,15))\n",
    "    for featuremap in range(featuremaps):\n",
    "        plt.subplot(6,8, featuremap+1) # sets the number of feature maps to show on each row and column\n",
    "        plt.title('FeatureMap ' + str(featuremap)) # displays the feature map number\n",
    "        if activation_min != -1 & activation_max != -1:\n",
    "            plt.imshow(activation[0,:,:, featuremap], interpolation=\"nearest\", vmin =activation_min, vmax=activation_max, cmap=\"gray\")\n",
    "        elif activation_max != -1:\n",
    "            plt.imshow(activation[0,:,:, featuremap], interpolation=\"nearest\", vmax=activation_max, cmap=\"gray\")\n",
    "        elif activation_min !=-1:\n",
    "            plt.imshow(activation[0,:,:, featuremap], interpolation=\"nearest\", vmin=activation_min, cmap=\"gray\")\n",
    "        else:\n",
    "            plt.imshow(activation[0,:,:, featuremap], interpolation=\"nearest\", cmap=\"gray\")"
   ]
  }
 ],
 "metadata": {
  "anaconda-cloud": {},
  "kernelspec": {
   "display_name": "Python 3",
   "language": "python",
   "name": "python3"
  },
  "language_info": {
   "codemirror_mode": {
    "name": "ipython",
    "version": 3
   },
   "file_extension": ".py",
   "mimetype": "text/x-python",
   "name": "python",
   "nbconvert_exporter": "python",
   "pygments_lexer": "ipython3",
   "version": "3.5.2"
  },
  "widgets": {
   "state": {},
   "version": "1.1.2"
  }
 },
 "nbformat": 4,
 "nbformat_minor": 1
}
